{
 "cells": [
  {
   "cell_type": "code",
   "execution_count": 2,
   "id": "8cee4e90",
   "metadata": {},
   "outputs": [],
   "source": [
    "import phonopy\n",
    "import numpy as np\n",
    "import matplotlib.pyplot as plt\n",
    "import yaml\n",
    "\n",
    "import types\n",
    "from phonopy.structure.atoms import PhonopyAtoms\n",
    "\n",
    "from modules.phonon_parser import parse_band_yaml\n",
    "from ase import Atoms\n",
    "from ase.build import make_supercell"
   ]
  },
  {
   "cell_type": "code",
   "execution_count": 3,
   "id": "6da8bb46",
   "metadata": {},
   "outputs": [],
   "source": [
    "with open(\"example/band_single.yaml\", \"r\") as f:\n",
    "    data = yaml.safe_load(f)\n",
    "unit_cell_phonons, unit_cell_meta = parse_band_yaml(data)"
   ]
  },
  {
   "cell_type": "code",
   "execution_count": 4,
   "id": "48422c73",
   "metadata": {},
   "outputs": [],
   "source": [
    "def meta_to_ase_atoms(meta):\n",
    "    \"\"\"\n",
    "    Convert the 'meta' dict from parse_band_yaml to an ASE Atoms object.\n",
    "    Requires ASE to be installed.\n",
    "    \"\"\"\n",
    "    \n",
    "\n",
    "    # Lattice: (3,3) array in Angstrom\n",
    "    lattice = meta.get(\"lattice\")\n",
    "    if lattice is None:\n",
    "        raise ValueError(\"meta['lattice'] is missing or invalid\")\n",
    "\n",
    "    # Atoms: list of dicts with 'symbol', 'frac', 'mass'\n",
    "    atoms = meta.get(\"atoms\")\n",
    "    if not atoms:\n",
    "        raise ValueError(\"meta['atoms'] is missing or empty\")\n",
    "\n",
    "    symbols = [a[\"symbol\"] for a in atoms]\n",
    "    scaled_positions = [a[\"frac\"] for a in atoms]\n",
    "    masses = [a.get(\"mass\") for a in atoms]\n",
    "\n",
    "    # Construct ASE Atoms object\n",
    "    ase_atoms = Atoms(\n",
    "        symbols=symbols,\n",
    "        scaled_positions=scaled_positions,\n",
    "        cell=lattice,\n",
    "        pbc=True,\n",
    "        masses=masses,\n",
    "    )\n",
    "    return ase_atoms\n"
   ]
  },
  {
   "cell_type": "code",
   "execution_count": 5,
   "id": "9283a1d5",
   "metadata": {},
   "outputs": [],
   "source": [
    "def get_dx(eq, ts):\n",
    "    \"\"\"\n",
    "    Compute atomic displacements (dx) from eq to ts, considering periodic boundary conditions.\n",
    "    Returns an array of shape (natoms, 3) in Cartesian coordinates.\n",
    "    Expects eq and ts to be ASE Atoms objects.\n",
    "    \"\"\"\n",
    "    # Get lattice vectors (3,3)\n",
    "    lattice = eq.get_cell()\n",
    "    # Get fractional positions (N,3)\n",
    "    frac_eq = eq.get_scaled_positions()\n",
    "    frac_ts = ts.get_scaled_positions()\n",
    "    # Compute shortest fractional displacement (wrap into [-0.5, 0.5))\n",
    "    dfrac = frac_ts - frac_eq\n",
    "    dfrac = (dfrac + 0.5) % 1.0 - 0.5\n",
    "    # Convert to Cartesian\n",
    "    dx = np.dot(dfrac, lattice)\n",
    "    return dx"
   ]
  },
  {
   "cell_type": "code",
   "execution_count": 6,
   "id": "0ea0838d",
   "metadata": {},
   "outputs": [],
   "source": [
    "unit_cell_atoms = meta_to_ase_atoms(unit_cell_meta)"
   ]
  },
  {
   "cell_type": "code",
   "execution_count": 7,
   "id": "a35e694f",
   "metadata": {},
   "outputs": [
    {
     "name": "stdout",
     "output_type": "stream",
     "text": [
      "[[ 2.72437781  2.72437781  3.89713954 ... 18.49376709 18.49376709\n",
      "  21.22682253]\n",
      " [ 2.72326193  2.72326193  3.89694501 ... 18.49388915 18.49388915\n",
      "  21.22537185]\n",
      " [ 2.71991313  2.71991313  3.89636259 ... 18.49425481 18.49425481\n",
      "  21.22097385]\n",
      " ...\n",
      " [ 2.59397926  2.615415    2.64721926 ... 13.75119897 18.32411736\n",
      "  22.01454399]\n",
      " [ 2.600114    2.60857112  2.64698633 ... 13.74867845 18.32359116\n",
      "  22.01509589]\n",
      " [ 2.60628298  2.60628298  2.63510246 ... 13.74784317 18.3234155\n",
      "  22.01527893]]\n"
     ]
    }
   ],
   "source": [
    "print(unit_cell_phonons[\"frequencies\"])"
   ]
  },
  {
   "cell_type": "code",
   "execution_count": 8,
   "id": "fcf6e60d",
   "metadata": {},
   "outputs": [],
   "source": [
    "with open(\"example/band_ts2-3.yaml\", \"r\") as f:\n",
    "    data = yaml.safe_load(f)\n",
    "ts_phonons, ts_meta = parse_band_yaml(data)\n",
    "ts_atoms = meta_to_ase_atoms(ts_meta)"
   ]
  },
  {
   "cell_type": "code",
   "execution_count": 9,
   "id": "0b49e7b8",
   "metadata": {},
   "outputs": [],
   "source": [
    "with open(\"example/band_eq2.yaml\", \"r\") as f:\n",
    "    data = yaml.safe_load(f)\n",
    "eq_phonons, eq_meta = parse_band_yaml(data)\n",
    "eq_atoms = meta_to_ase_atoms(eq_meta)"
   ]
  },
  {
   "cell_type": "code",
   "execution_count": null,
   "id": "e36048bd",
   "metadata": {},
   "outputs": [],
   "source": []
  },
  {
   "cell_type": "code",
   "execution_count": 10,
   "id": "15a9dd89",
   "metadata": {},
   "outputs": [
    {
     "name": "stdout",
     "output_type": "stream",
     "text": [
      "[[ 0.         -0.19448741 -0.05586459]\n",
      " [ 0.         -0.01973589 -0.02247493]\n",
      " [ 0.          0.00810958  0.06718564]\n",
      " [ 0.         -0.03690102  0.02545188]\n",
      " [ 0.          0.1382381  -0.21406867]\n",
      " [ 0.          0.00708481 -0.01453749]\n",
      " [ 0.          0.06018232  0.04767897]\n",
      " [ 0.          0.01715807  0.01841546]\n",
      " [ 0.         -0.08015879  0.26330231]\n",
      " [ 0.         -0.03407293  0.04065444]\n",
      " [ 0.         -0.07586386  0.15577849]\n",
      " [ 0.         -0.02598876 -0.03654505]\n",
      " [ 0.          0.13150402  0.38020082]\n",
      " [ 0.          0.01478324 -0.00349392]\n",
      " [ 0.          0.07946797 -0.18598178]\n",
      " [ 0.          0.01844752  0.04597236]\n",
      " [ 0.          0.59554473 -0.1634228 ]\n",
      " [ 0.         -0.04969569 -0.02257928]\n",
      " [ 0.         -0.10270915  0.0482364 ]\n",
      " [ 0.          0.04628505  0.02627688]\n",
      " [ 0.         -0.12201752 -0.0668527 ]\n",
      " [ 0.          0.02306995 -0.02519245]\n",
      " [ 0.          0.11841375  0.08847888]\n",
      " [ 0.         -0.03714232  0.01924381]\n",
      " [-0.01123809 -0.06577499 -0.0940699 ]\n",
      " [ 0.01123809 -0.06577499 -0.0940699 ]\n",
      " [-0.01650433 -0.05858514  0.03130858]\n",
      " [ 0.01650433 -0.05858514  0.03130858]\n",
      " [ 0.01462472  0.05391994 -0.06945444]\n",
      " [-0.01462472  0.05391994 -0.06945444]\n",
      " [ 0.00405838  0.05584797  0.03929479]\n",
      " [-0.00405838  0.05584797  0.03929479]\n",
      " [-0.00569704 -0.05386406  0.11388439]\n",
      " [ 0.00569704 -0.05386406  0.11388439]\n",
      " [ 0.00529908  0.00390036  0.01083638]\n",
      " [-0.00529908  0.00390036  0.01083638]\n",
      " [-0.0109664  -0.01586375 -0.01701472]\n",
      " [ 0.0109664  -0.01586375 -0.01701472]\n",
      " [ 0.01108452  0.01778972 -0.04530877]\n",
      " [-0.01108452  0.01778972 -0.04530877]\n",
      " [ 0.          0.72305289 -1.43212407]]\n"
     ]
    }
   ],
   "source": [
    "dx = get_dx(eq_atoms, ts_atoms)\n",
    "print(dx)"
   ]
  },
  {
   "cell_type": "code",
   "execution_count": 121,
   "id": "225c9d5b",
   "metadata": {},
   "outputs": [
    {
     "name": "stdout",
     "output_type": "stream",
     "text": [
      "[-3.00954915 -3.00975205 -3.01035679 -3.01135147 -3.01271656 -3.0144252\n",
      " -3.01644366 -3.01873181 -3.02124361 -3.02392761 -3.0267273  -3.02958157\n",
      " -3.03242498 -3.03518815 -3.03779805 -3.04017842 -3.04225024 -3.0439323\n",
      " -3.04514189 -3.04579558 -3.04581017 -3.04510365 -3.04359629 -3.04121179\n",
      " -3.03787841 -3.0335302  -3.02810818 -3.02156161 -3.01384927 -3.00494082\n",
      " -2.99481831 -2.98347774 -2.97093095 -2.95720764 -2.94235777 -2.9264542\n",
      " -2.9095957  -2.89191031 -2.87355878 -2.85473824 -2.83568545 -2.81667933\n",
      " -2.79804198 -2.78013708 -2.76336454 -2.74814978 -2.73492675 -2.72411417\n",
      " -2.71608622 -2.71114077 -2.70947014 -2.70947014 -2.71037805 -2.71308048\n",
      " -2.7175149  -2.72358156 -2.73114949 -2.74006376 -2.75015323 -2.76123786\n",
      " -2.77313539 -2.78566671 -2.79866011 -2.81195431 -2.82540047 -2.83886332\n",
      " -2.85222168 -2.86536841 -2.87821013 -2.89066664 -2.90267019 -2.9141648\n",
      " -2.92510539 -2.93545702 -2.94519412 -2.95429973 -2.96276477 -2.97058736\n",
      " -2.97777212 -2.98432955 -2.99027539 -2.99563    -3.00041777 -3.00466653\n",
      " -3.00840696 -3.01167203 -3.01449645 -3.01691608 -3.01896746 -3.02068721\n",
      " -3.02211157 -3.02327592 -3.02421426 -3.02495883 -3.02553965 -3.02598416\n",
      " -3.0263169  -3.02655913 -3.02672866 -3.02683955 -3.02690198 -3.02692211\n",
      " -3.02692211 -3.02681559 -3.02649623 -3.02596459 -3.02522159 -3.02426852\n",
      " -3.02310704 -3.0217392  -3.02016737 -3.0183943  -3.0164231  -3.01425723\n",
      " -3.01190046 -3.00935693 -3.00663108 -3.0037277  -3.00065186 -2.99740896\n",
      " -2.9940047  -2.99044509 -2.98673648 -2.98288554 -2.97889933 -2.97478535\n",
      " -2.97055157 -2.96620652 -2.96175943 -2.9572203  -2.95260011 -2.94791094\n",
      " -2.94316621 -2.93838086 -2.93357159 -2.92875709 -2.92395825 -2.91919833\n",
      " -2.91450316 -2.90990117 -2.90542339 -2.90110336 -2.89697679 -2.89308121\n",
      " -2.88945528 -2.88613809 -2.88316814 -2.88058227 -2.87841448 -2.87669469\n",
      " -2.87544763 -2.87469177 -2.87443852 -2.87443852 -2.87512253 -2.87715545\n",
      " -2.88048118 -2.8850102  -2.89062494 -2.89718611 -2.90453948 -2.91252213\n",
      " -2.920968   -2.92971227 -2.93859466 -2.94746163 -2.95616768 -2.96457605\n",
      " -2.97255878 -2.97999662 -2.98677862 -2.99280175 -2.99797054 -3.00219669\n",
      " -3.00539896 -3.00750303 -3.00844164 -3.00815475 -3.00659004 -3.0037034\n",
      " -2.99945974 -2.99383393 -2.98681192 -2.97839218 -2.96858726 -2.95742564\n",
      " -2.94495393 -2.93123918 -2.9163716  -2.90046744 -2.88367201 -2.86616274\n",
      " -2.84815209 -2.82988986 -2.81166444 -2.79380239 -2.77666533 -2.76064324\n",
      " -2.74614316 -2.73357272 -2.72331854 -2.71572096 -2.71104763 -2.70947014]\n",
      "[ 1.04171268  1.03126512  1.00345227  0.96433038  0.91795849  0.86635823\n",
      "  0.81038623  0.750237    0.68562815  0.61578054  0.53917977  0.4528796\n",
      "  0.35024955  0.20905131 -0.17780056 -0.32112789 -0.41320194 -0.48417092\n",
      " -0.54242208 -0.5918293  -0.63463857 -0.67236445 -0.70615786 -0.73698448\n",
      " -0.76572019 -0.79320241 -0.82025189 -0.84766983 -0.87621149 -0.90653868\n",
      " -0.93915833 -0.97436208 -1.01218635 -1.05240983 -1.09459234 -1.13814329\n",
      " -1.18239794 -1.22668182 -1.27035288 -1.31282109 -1.35355121 -1.39205622\n",
      " -1.42788818 -1.46063099 -1.48989755 -1.5153317  -1.53661388 -1.55346881\n",
      " -1.56567332 -1.57306311 -1.57553765 -1.57553765 -1.57384567 -1.56876052\n",
      " -1.5602542  -1.54827912 -1.53276658 -1.51362446 -1.49073402 -1.46394544\n",
      " -1.43307166 -1.39787995 -1.35808006 -1.31330737 -1.26309821 -1.20685269\n",
      " -1.14377606 -1.07278161 -0.99231885 -0.90004155 -0.81240198 -0.79346831\n",
      " -0.77345919 -0.75230145 -0.72991723 -0.70622145 -0.68111878 -0.6544997\n",
      " -0.62623509 -0.59616862 -0.5641054  -0.52979433 -0.49289932 -0.45294945\n",
      " -0.40924546 -0.36066564 -0.30519773 -0.23850242 -0.14666695  0.1128671\n",
      "  0.21359463  0.27728129  0.32598021  0.36536373  0.39787152  0.42477878\n",
      "  0.44682217  0.46445098  0.4779461   0.48748314  0.49316793  0.49505696\n",
      "  0.49505696  0.49876657  0.50972354  0.52744755  0.55123991  0.58029239\n",
      "  0.61378159  0.65093277  0.69105272  0.7335397   0.77787952  0.82363503\n",
      "  0.8704333   0.91795304  0.96591331  1.01406374  0.97155773  0.89827808\n",
      "  0.81934013  0.73302811  0.63647885  0.52422866  0.3829365   0.14410164\n",
      " -0.32033975 -0.47255832 -0.5840515  -0.67515225 -0.75316242 -0.82169746\n",
      " -0.88285618 -0.93798149 -0.98799134 -1.03354397 -1.07512883 -1.11312031\n",
      " -1.14781131 -1.17943517 -1.2081805  -1.23420147 -1.25762524 -1.27855728\n",
      " -1.29708535 -1.31328249 -1.32720923 -1.33891534 -1.34844109 -1.35581828\n",
      " -1.36107096 -1.36421594 -1.36526316 -1.36526316 -1.36479477 -1.36338546\n",
      " -1.36102304 -1.35768787 -1.35335399 -1.34799043 -1.34156302 -1.33403637\n",
      " -1.32537606 -1.31555115 -1.30453668 -1.29231646 -1.278886   -1.26425565\n",
      " -1.24845405 -1.23153204 -1.21356706 -1.1946685  -1.17498403 -1.15470756\n",
      " -1.13408927 -1.11344831 -1.09318909 -1.0738216  -1.05598576 -1.0404773\n",
      " -1.02826789 -1.02050186 -1.01843805 -1.02329551 -1.03598565 -1.05679579\n",
      " -1.08519114 -1.11988689 -1.15916137 -1.20122086 -1.24445172 -1.28752438\n",
      " -1.32939605 -1.36926846 -1.40653591 -1.44073902 -1.4715283  -1.49863702\n",
      " -1.52186152 -1.54104713 -1.55607816 -1.56687079 -1.57336824 -1.57553765]\n"
     ]
    }
   ],
   "source": [
    "print(eq_phonons[\"frequencies\"][:,0])\n",
    "print(ts_phonons[\"frequencies\"][:,1])"
   ]
  },
  {
   "cell_type": "code",
   "execution_count": 35,
   "id": "f5daca15",
   "metadata": {},
   "outputs": [
    {
     "name": "stdout",
     "output_type": "stream",
     "text": [
      "Average difference between TS and EQ frequencies: 0.6392691062533992\n"
     ]
    }
   ],
   "source": [
    "eq_freqs = np.array(eq_phonons[\"frequencies\"][:,:-1])\n",
    "ts_freqs = np.array(ts_phonons[\"frequencies\"][:,1:])\n",
    "diff = ts_freqs - eq_freqs\n",
    "avg_diff = np.mean(diff)\n",
    "print(\"Average difference between TS and EQ frequencies:\", avg_diff)\n"
   ]
  },
  {
   "cell_type": "code",
   "execution_count": 44,
   "id": "5ff91ad2",
   "metadata": {},
   "outputs": [
    {
     "name": "stdout",
     "output_type": "stream",
     "text": [
      "(204, 123, 41, 3)\n"
     ]
    }
   ],
   "source": [
    "print(np.array(eq_phonons[\"eigenvectors\"]).shape)"
   ]
  },
  {
   "cell_type": "code",
   "execution_count": 96,
   "id": "edf9bd04",
   "metadata": {},
   "outputs": [
    {
     "name": "stdout",
     "output_type": "stream",
     "text": [
      "0.06037613839778865\n",
      "26\n"
     ]
    }
   ],
   "source": [
    "eq_ev = np.array(eq_phonons[\"eigenvectors\"])\n",
    "ts_ev = np.array(ts_phonons[\"eigenvectors\"])\n",
    "min_dv = 1000\n",
    "min_ind = 10\n",
    "for i in range(eq_ev.shape[1]):\n",
    "    dv = eq_ev[0,i,:,:] - ts_ev[0,30,:,:]\n",
    "    dv_mean = np.mean(np.abs(dv))\n",
    "    if dv_mean < min_dv:\n",
    "        min_dv = dv_mean\n",
    "        min_ind=i\n",
    "\n",
    "print(min_dv)\n",
    "print(min_ind)"
   ]
  },
  {
   "cell_type": "code",
   "execution_count": 119,
   "id": "c988cdfa",
   "metadata": {},
   "outputs": [
    {
     "name": "stdout",
     "output_type": "stream",
     "text": [
      "(4, 0.2200249122549499)\n"
     ]
    }
   ],
   "source": [
    "def mac_mass(u, v, masses):\n",
    "    # u, v: complex (3N,) vectors; masses: (N,) atomic masses\n",
    "    M = np.repeat(masses, 3)              # (3N,)\n",
    "    # phase align v to u under mass metric\n",
    "    flat_u = u.flatten()\n",
    "    flat_v = v.flatten()\n",
    "    num = np.vdot(flat_u * M, flat_v)               # u^† M v\n",
    "    v_aligned = flat_v * np.exp(-1j * np.angle(num))\n",
    "    num_aligned = np.vdot(flat_u * M, v_aligned)\n",
    "    den = np.sqrt(np.vdot(flat_u * M, flat_u) * np.vdot(v_aligned * M, v_aligned))\n",
    "    return float(np.abs(num_aligned)**2 / (den.real**2))  # MAC in [0,1]\n",
    "\n",
    "def best_match(u, V, masses):\n",
    "    # V: array shape (n_modes, 3N)\n",
    "    scores = np.array([mac_mass(u, v, masses) for v in V])\n",
    "    j = int(np.argmax(scores))\n",
    "    return j, float(scores[j])\n",
    "\n",
    "print(best_match(ts_ev[0,8,:-1,:],eq_ev[0,:,:-1,:],ts_atoms.get_masses()[:-1]))"
   ]
  },
  {
   "cell_type": "code",
   "execution_count": 122,
   "id": "44cd02a8",
   "metadata": {},
   "outputs": [],
   "source": [
    "# --- inputs you already have ---\n",
    "# unit_cell_atoms: ASE Atoms of the primitive/ unit cell\n",
    "# unit_cell_phonons[\"eigenvectors\"]: shape [nq, nbranches, natoms, 3] (complex allowed)\n",
    "# qpoints_frac: array-like of shape [nq, 3] with q in fractional reciprocal coords\n",
    "# P: 3x3 integer supercell matrix (use diagonal for simple repeats). Example:\n",
    "P = np.diag([2, 2, 2])  # (nx, ny, nz)\n",
    "\n",
    "# Build the supercell atoms (fixing the small typo in your snippet)\n",
    "supercell_atoms = make_supercell(unit_cell_atoms, P)\n",
    "\n",
    "unit_eigvecs = np.asarray(unit_cell_phonons[\"eigenvectors\"])  # [nq, nbranches, natoms, 3]\n",
    "qpoints_frac  = np.asarray(unit_cell_phonons[\"qpoints_frac\"], dtype=float)         # [nq, 3]\n",
    "nq, nbranches, natoms, _ = unit_eigvecs.shape\n",
    "\n",
    "# Extract repeats per direction from P (assumes diagonal supercell here)\n",
    "nx, ny, nz = np.diag(P).astype(int)\n",
    "\n",
    "def build_supercell_mode_stepwise(eigvec_uc, q_frac, nx, ny, nz):\n",
    "    \"\"\"\n",
    "    Stepwise replicate eigenvector along x, then y, then z,\n",
    "    appending blocks multiplied by exp(2πi * (q·T)) in fractional coords.\n",
    "    eigvec_uc: (natoms, 3) complex\n",
    "    q_frac: (3,) fractional reciprocal coords (q1, q2, q3)\n",
    "    returns: (natoms*nx*ny*nz, 3) complex eigenvector for the supercell\n",
    "    \"\"\"\n",
    "    # Ensure complex dtype\n",
    "    mode = np.asarray(eigvec_uc, dtype=np.complex128)\n",
    "\n",
    "    # --- X replication ---\n",
    "    # start with the base block\n",
    "    blocks_x = [mode]\n",
    "    if nx > 1:\n",
    "        phase_x = np.exp(2j * np.pi * q_frac[0] * np.arange(1, nx))  # phases for 1..nx-1\n",
    "        for ph in phase_x:\n",
    "            blocks_x.append(mode * ph)\n",
    "    mode_x = np.concatenate(blocks_x, axis=0)  # (natoms*nx, 3)\n",
    "\n",
    "    # --- Y replication ---\n",
    "    blocks_y = [mode_x]\n",
    "    if ny > 1:\n",
    "        phase_y = np.exp(2j * np.pi * q_frac[1] * np.arange(1, ny))\n",
    "        for ph in phase_y:\n",
    "            blocks_y.append(mode_x * ph)\n",
    "    mode_xy = np.concatenate(blocks_y, axis=0)  # (natoms*nx*ny, 3)\n",
    "\n",
    "    # --- Z replication ---\n",
    "    blocks_z = [mode_xy]\n",
    "    if nz > 1:\n",
    "        phase_z = np.exp(2j * np.pi * q_frac[2] * np.arange(1, nz))\n",
    "        for ph in phase_z:\n",
    "            blocks_z.append(mode_xy * ph)\n",
    "    mode_xyz = np.concatenate(blocks_z, axis=0)  # (natoms*nx*ny*nz, 3)\n",
    "\n",
    "    return mode_xyz\n",
    "\n",
    "# Build all supercell eigenvectors with correct Bloch phases\n",
    "supercell_eigenvectors = np.empty((nq, nbranches, natoms*nx*ny*nz, 3), dtype=np.complex128)\n",
    "\n",
    "for iq in range(nq):\n",
    "    qf = qpoints_frac[iq]  # (q1, q2, q3) in fractional coords\n",
    "    for b in range(nbranches):\n",
    "        eig_uc = unit_eigvecs[iq, b]            # (natoms, 3), complex\n",
    "        eig_sc = build_supercell_mode_stepwise(eig_uc, qf, nx, ny, nz)\n",
    "        supercell_eigenvectors[iq, b] = eig_sc\n",
    "\n",
    "# supercell_eigenvectors has shape [nq, nbranches, supercell_natoms, 3] (complex)\n"
   ]
  },
  {
   "cell_type": "code",
   "execution_count": 123,
   "id": "dde82f81",
   "metadata": {},
   "outputs": [
    {
     "name": "stdout",
     "output_type": "stream",
     "text": [
      "(40,)\n",
      "(40, 3)\n"
     ]
    }
   ],
   "source": [
    "print(supercell_atoms.get_masses().shape)\n",
    "masses = supercell_atoms.get_masses()  # shape (40,)\n",
    "masses_40x3 = np.tile(masses[:, None], (1, 3))  # shape (40, 3)\n",
    "print(masses_40x3.shape)\n"
   ]
  },
  {
   "cell_type": "code",
   "execution_count": 125,
   "id": "bb4b7cae",
   "metadata": {},
   "outputs": [],
   "source": [
    "def pbc_diff(a, b, cell):\n",
    "    \"\"\"\n",
    "    Compute minimum-image difference between a and b under PBC.\n",
    "    a, b: (3,) arrays (fractional coordinates)\n",
    "    cell: (3,3) cell matrix (cartesian vectors as rows)\n",
    "    Returns: cartesian vector from a to b (minimum image)\n",
    "    \"\"\"\n",
    "    # Convert to fractional if not already\n",
    "    # a, b are fractional\n",
    "    d = b - a\n",
    "    d -= np.round(d)  # wrap to [-0.5,0.5)\n",
    "    return np.dot(d, cell)  # cartesian\n",
    "\n",
    "# Get positions and symbols for mapping\n",
    "supercell_pos = supercell_atoms.get_positions()  # (Nsuper, 3)\n",
    "supercell_frac = supercell_atoms.get_scaled_positions()\n",
    "supercell_syms = np.array(supercell_atoms.get_chemical_symbols())\n",
    "\n",
    "ts_pos = ts_atoms.get_positions()  # (Nts, 3)\n",
    "ts_frac = ts_atoms.get_scaled_positions()\n",
    "ts_syms = np.array(ts_atoms.get_chemical_symbols())\n",
    "\n",
    "cell = supercell_atoms.get_cell()  # (3,3)\n",
    "\n",
    "# For each ts_atom (except last), find closest supercell atom of same type\n",
    "mapping = []\n",
    "used_super_idx = set()\n",
    "for i in range(len(ts_atoms)-1):\n",
    "    sym = ts_syms[i]\n",
    "    frac = ts_frac[i]\n",
    "    # Find all supercell atoms of same type not yet used\n",
    "    candidates = np.where(supercell_syms == sym)[0]\n",
    "    min_dist = None\n",
    "    min_j = None\n",
    "    for j in candidates:\n",
    "        if j in used_super_idx:\n",
    "            continue\n",
    "        dvec = pbc_diff(frac, supercell_frac[j], np.eye(3))  # use fractional cell for wrapping\n",
    "        # Convert to cartesian\n",
    "        dvec_cart = np.dot(dvec, cell)\n",
    "        dist = np.linalg.norm(dvec_cart)\n",
    "        if (min_dist is None) or (dist < min_dist):\n",
    "            min_dist = dist\n",
    "            min_j = j\n",
    "    if min_j is not None:\n",
    "        mapping.append(min_j)\n",
    "        used_super_idx.add(min_j)\n",
    "    else:\n",
    "        raise RuntimeError(f\"No matching supercell atom found for ts atom {i} ({sym})\")\n",
    "\n",
    "# Now rearrange supercell_eigenvectors to match ts_atoms order (except last atom)\n",
    "# supercell_eigenvectors: [nq][nbranches][supercell_natoms][3]\n",
    "\n",
    "rearranged_supercell_eigenvectors = []\n",
    "for q in range(len(supercell_eigenvectors)):\n",
    "    q_eigvecs = []\n",
    "    for b in range(len(supercell_eigenvectors[q])):\n",
    "        eigvecs = supercell_eigenvectors[q][b]  # [supercell_natoms, 3]\n",
    "        # Rearranged: [eigvecs[mapping[0]], eigvecs[mapping[1]], ..., eigvecs[mapping[-1]]]\n",
    "        eigvecs_rearr = np.array([eigvecs[j] for j in mapping])\n",
    "        q_eigvecs.append(eigvecs_rearr)\n",
    "    rearranged_supercell_eigenvectors.append(q_eigvecs)\n",
    "# rearranged_supercell_eigenvectors: [nq][nbranches][len(ts_atoms)-1][3]\n"
   ]
  },
  {
   "cell_type": "code",
   "execution_count": 126,
   "id": "4c60c82a",
   "metadata": {},
   "outputs": [
    {
     "name": "stdout",
     "output_type": "stream",
     "text": [
      "(306, 15, 40, 3)\n",
      "(306, 15, 5, 3)\n"
     ]
    }
   ],
   "source": [
    "print(np.array(rearranged_supercell_eigenvectors).shape)\n",
    "print(np.array(unit_cell_phonons[\"eigenvectors\"]).shape)"
   ]
  },
  {
   "cell_type": "code",
   "execution_count": 127,
   "id": "4ce7229e",
   "metadata": {},
   "outputs": [
    {
     "name": "stdout",
     "output_type": "stream",
     "text": [
      "(306, 15)\n"
     ]
    }
   ],
   "source": [
    "mass_weight = True\n",
    "# Calculate the modulus of projection of dx[:-1] onto each eigenvector\n",
    "# rearranged_supercell_eigenvectors: [nq][nbranches][len(ts_atoms)-1][3]\n",
    "# dx: [len(ts_atoms), 3] (assumed from context)\n",
    "# We want: projections_modulus: [nq, nbranches]\n",
    "\n",
    "dx_vec = dx[:-1]  # shape: (len(ts_atoms)-1, 3)\n",
    "\n",
    "if mass_weight: # to be honest, I dont think it shpould be weighted\n",
    "    masses = np.tile(eq_atoms.get_masses()[:-1].reshape(-1,1), (1,3))\n",
    "    mass_factor = 1/np.sqrt(masses)\n",
    "    dx_vec = dx_vec * mass_factor\n",
    "\n",
    "dx_vec = dx_vec - np.mean(dx_vec, axis=0)\n",
    "\n",
    "dx_vec_flat = dx_vec.flatten()  # shape: ((len(ts_atoms)-1)*3,)\n",
    "\n",
    "projections_modulus = []\n",
    "for q in range(len(rearranged_supercell_eigenvectors)):\n",
    "    q_proj = []\n",
    "    for b in range(len(rearranged_supercell_eigenvectors[q])):\n",
    "        eigvec = rearranged_supercell_eigenvectors[q][b]  # shape: (len(ts_atoms)-1, 3)\n",
    "        eigvec_flat = eigvec.flatten()  # shape: ((len(ts_atoms)-1)*3,)\n",
    "        # If eigenvectors are complex, use conjugate for projection\n",
    "        proj = np.vdot(eigvec_flat, dx_vec_flat)  # vdot does conjugate on first arg  \n",
    "        q_proj.append(np.abs(proj))\n",
    "    projections_modulus.append(q_proj)\n",
    "projections_modulus = np.array(projections_modulus)  # shape: (nq, nbranches)\n",
    "print(projections_modulus.shape)\n"
   ]
  },
  {
   "cell_type": "code",
   "execution_count": 129,
   "id": "3a3647c5",
   "metadata": {},
   "outputs": [
    {
     "data": {
      "image/png": "[encoded data removed]",
      "text/plain": [
       "<Figure size 600x400 with 1 Axes>"
      ]
     },
     "metadata": {},
     "output_type": "display_data"
    }
   ],
   "source": [
    "import matplotlib.pyplot as plt\n",
    "\n",
    "# unit_cell_phonons[\"frequencies\"]: shape [nq, nbranches]\n",
    "# unit_cell_phonons[\"q\"]: shape [nq]\n",
    "\n",
    "freqs = np.array(unit_cell_phonons[\"frequencies\"])  # [nq, nbranches]\n",
    "q = np.array(unit_cell_phonons[\"qpoints\"])  # [nq]\n",
    "\n",
    "plt.figure(figsize=(6,4))\n",
    "for b in range(freqs.shape[1]):\n",
    "    plt.plot(q, freqs[:, b], color=\"C0\")\n",
    "\n",
    "# Overlay scatter plot: point size proportional to projection_modulus\n",
    "# Normalize projection_modulus for point size scaling\n",
    "proj = projections_modulus\n",
    "min_size = 0\n",
    "max_size = 200\n",
    "proj_norm = (proj - proj.min()) / max(proj.max() - proj.min(), 1e-12)\n",
    "sizes = min_size + proj_norm**2 * (max_size - min_size)\n",
    "\n",
    "for b in range(freqs.shape[1]):\n",
    "    plt.scatter(q, freqs[:, b], s=sizes[:, b], color=\"C1\", alpha=0.6, edgecolors='none')\n",
    "\n",
    "plt.xlabel(\"q\")\n",
    "plt.ylabel(\"Frequency (THz)\")\n",
    "plt.title(\"Phonon Dispersion\")\n",
    "plt.tight_layout()\n",
    "plt.show()\n"
   ]
  },
  {
   "cell_type": "code",
   "execution_count": null,
   "id": "5e476dfa",
   "metadata": {},
   "outputs": [],
   "source": []
  }
 ],
 "metadata": {
  "kernelspec": {
   "display_name": "Python 3",
   "language": "python",
   "name": "python3"
  },
  "language_info": {
   "codemirror_mode": {
    "name": "ipython",
    "version": 3
   },
   "file_extension": ".py",
   "mimetype": "text/x-python",
   "name": "python",
   "nbconvert_exporter": "python",
   "pygments_lexer": "ipython3",
   "version": "3.12.3"
  }
 },
 "nbformat": 4,
 "nbformat_minor": 5
}
